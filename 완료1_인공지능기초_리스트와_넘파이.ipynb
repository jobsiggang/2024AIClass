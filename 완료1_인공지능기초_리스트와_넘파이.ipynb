{
  "nbformat": 4,
  "nbformat_minor": 0,
  "metadata": {
    "colab": {
      "provenance": [],
      "authorship_tag": "ABX9TyM41m1nCGROnf4dTax9V4hT",
      "include_colab_link": true
    },
    "kernelspec": {
      "name": "python3",
      "display_name": "Python 3"
    },
    "language_info": {
      "name": "python"
    }
  },
  "cells": [
    {
      "cell_type": "markdown",
      "metadata": {
        "id": "view-in-github",
        "colab_type": "text"
      },
      "source": [
        "<a href=\"https://colab.research.google.com/github/jobsiggang/2024AIClass/blob/main/%EC%99%84%EB%A3%8C1_%EC%9D%B8%EA%B3%B5%EC%A7%80%EB%8A%A5%EA%B8%B0%EC%B4%88_%EB%A6%AC%EC%8A%A4%ED%8A%B8%EC%99%80_%EB%84%98%ED%8C%8C%EC%9D%B4.ipynb\" target=\"_parent\"><img src=\"https://colab.research.google.com/assets/colab-badge.svg\" alt=\"Open In Colab\"/></a>"
      ]
    },
    {
      "cell_type": "markdown",
      "source": [
        "# numpy\n",
        "## - 데이터 과학자들은 리스트 대신 넘파이를 선호한다.\n",
        "## - numpy는 대용량의 배열과 행렬연산을 빠르게 수행한다.\n",
        "## - 넘파이는 성능이 우수한 ndarry객체를 제공한다.\n",
        "- ndarry는 C언어에 기반한 배열 구조이므로 메모리를 적게 차지 하고 속도가 빠르다\n",
        "- ndarry는 배열과 배열 간에 수학적인 연산을 할 수 있다.\n",
        "- ndarry는 고급 연산자와 풍부한 함수를 제공한다.\n",
        "\n",
        "##- 배열의 각 요소는 인덱스 정수로 참조한다.(0부터 시작)\n",
        "##- 넘파이에서 차원은 축 axis 라고 불린다.\n",
        "##- 리스트는 요소별 대응 시키는 연산을 제공하지 않는다\n",
        "\n"
      ],
      "metadata": {
        "id": "iPg64ND7IDLe"
      }
    },
    {
      "cell_type": "code",
      "execution_count": null,
      "metadata": {
        "colab": {
          "base_uri": "https://localhost:8080/"
        },
        "id": "muR7MQcshN-O",
        "outputId": "fa575e50-a13b-42ec-dbad-9d3d46a180e0"
      },
      "outputs": [
        {
          "output_type": "execute_result",
          "data": {
            "text/plain": [
              "['과일', '고기', '음료수']"
            ]
          },
          "metadata": {},
          "execution_count": 1
        }
      ],
      "source": [
        "#리스트, 배열 [\"사과\", \"배\", \"딸기\"]\n",
        "음식=[\"과일\",\"고기\",\"음료수\"]\n",
        "음식"
      ]
    },
    {
      "cell_type": "code",
      "source": [
        "음식=[[\"사과\",100],[\"삼겹살\",\"갈비\"],[\"콜라\",\"환타\"]]\n",
        "음식\n"
      ],
      "metadata": {
        "colab": {
          "base_uri": "https://localhost:8080/"
        },
        "id": "jNH48Su7iko8",
        "outputId": "bb240451-ed33-43fb-e9c2-212f1a386852"
      },
      "execution_count": null,
      "outputs": [
        {
          "output_type": "execute_result",
          "data": {
            "text/plain": [
              "[['사과', 100], ['삼겹살', '갈비'], ['콜라', '환타']]"
            ]
          },
          "metadata": {},
          "execution_count": 2
        }
      ]
    },
    {
      "cell_type": "code",
      "source": [
        "음식[1][0]"
      ],
      "metadata": {
        "colab": {
          "base_uri": "https://localhost:8080/",
          "height": 36
        },
        "id": "5MZTgShYi_yY",
        "outputId": "1cd7cef1-4e0c-4660-c93f-1481240c8c19"
      },
      "execution_count": null,
      "outputs": [
        {
          "output_type": "execute_result",
          "data": {
            "text/plain": [
              "'삼겹살'"
            ],
            "application/vnd.google.colaboratory.intrinsic+json": {
              "type": "string"
            }
          },
          "metadata": {},
          "execution_count": 3
        }
      ]
    },
    {
      "cell_type": "code",
      "source": [
        "score=[10,30,5,60,15]\n",
        "for  i in score:\n",
        "  print(i)"
      ],
      "metadata": {
        "colab": {
          "base_uri": "https://localhost:8080/"
        },
        "id": "I32jC9ufj6EI",
        "outputId": "2c36233b-9966-4255-9e28-58d6f6af9328"
      },
      "execution_count": null,
      "outputs": [
        {
          "output_type": "stream",
          "name": "stdout",
          "text": [
            "10\n",
            "30\n",
            "5\n",
            "60\n",
            "15\n"
          ]
        }
      ]
    },
    {
      "cell_type": "code",
      "source": [
        "!pip install numpy"
      ],
      "metadata": {
        "colab": {
          "base_uri": "https://localhost:8080/"
        },
        "id": "zkZ9bx4plDks",
        "outputId": "b3c22873-fcb5-49bf-b9d4-78777052c562"
      },
      "execution_count": null,
      "outputs": [
        {
          "output_type": "stream",
          "name": "stdout",
          "text": [
            "Requirement already satisfied: numpy in /usr/local/lib/python3.10/dist-packages (1.25.2)\n"
          ]
        }
      ]
    },
    {
      "cell_type": "code",
      "source": [
        "import numpy as np\n",
        "score=[10,30,40,0,50,20,10,45,15] #리스트\n",
        "\n",
        "np_score=np.array(score)\n",
        "print(np_score)\n",
        "type(np_score)"
      ],
      "metadata": {
        "colab": {
          "base_uri": "https://localhost:8080/"
        },
        "id": "2T0YzRMOlg4N",
        "outputId": "8fd4f912-9cc2-4ad5-c356-928abf3055f7"
      },
      "execution_count": null,
      "outputs": [
        {
          "output_type": "stream",
          "name": "stdout",
          "text": [
            "[10 30 40  0 50 20 10 45 15]\n"
          ]
        },
        {
          "output_type": "execute_result",
          "data": {
            "text/plain": [
              "numpy.ndarray"
            ]
          },
          "metadata": {},
          "execution_count": 7
        }
      ]
    },
    {
      "cell_type": "code",
      "source": [
        "new_score=np_score*10\n",
        "print(new_score)"
      ],
      "metadata": {
        "colab": {
          "base_uri": "https://localhost:8080/"
        },
        "id": "fPwdCcpdmebk",
        "outputId": "255f1daa-eec4-4c56-db94-8aeb8ca60cff"
      },
      "execution_count": null,
      "outputs": [
        {
          "output_type": "stream",
          "name": "stdout",
          "text": [
            "[100 300 400   0 500 200 100 450 150]\n"
          ]
        }
      ]
    },
    {
      "cell_type": "code",
      "source": [
        "type(new_score)"
      ],
      "metadata": {
        "colab": {
          "base_uri": "https://localhost:8080/"
        },
        "id": "bRn4aYy0ntax",
        "outputId": "ee0c4020-01ab-445b-bbbd-f27a95e91eb5"
      },
      "execution_count": null,
      "outputs": [
        {
          "output_type": "execute_result",
          "data": {
            "text/plain": [
              "numpy.ndarray"
            ]
          },
          "metadata": {},
          "execution_count": 9
        }
      ]
    },
    {
      "cell_type": "code",
      "source": [
        "print(new_score.shape)\n",
        "arr=np.array([[1,2],[3,4],[5,6]])\n",
        "print(arr.shape)\n",
        "print(arr.ndim)\n",
        "print(arr.size)\n",
        "print(arr.itemsize)\n",
        "print(arr.dtype)"
      ],
      "metadata": {
        "colab": {
          "base_uri": "https://localhost:8080/"
        },
        "id": "uUFU4W7cn2Lw",
        "outputId": "6b16fcb3-43f3-41bd-c1f1-2c5e0bf793f2"
      },
      "execution_count": null,
      "outputs": [
        {
          "output_type": "stream",
          "name": "stdout",
          "text": [
            "(9,)\n",
            "(3, 2)\n",
            "2\n",
            "6\n",
            "8\n",
            "int64\n"
          ]
        }
      ]
    },
    {
      "cell_type": "code",
      "source": [
        "import numpy as np\n",
        "\n",
        "# 중간고사와 기말고사 점수 데이터\n",
        "midterm_scores = [80, 75, 90, 55, 88]  # 중간고사 점수\n",
        "final_scores = [35, 88, 92, 78, 90]  # 기말고사 점수\n",
        "\n",
        "# 넘파이 배열로 변환\n",
        "midterm_scores_np = np.array(midterm_scores)\n",
        "final_scores_np = np.array(final_scores)\n",
        "\n",
        "# 총점 계산\n",
        "total_scores = midterm_scores_np + final_scores_np\n",
        "\n",
        "# 평균 계산\n",
        "average_scores = total_scores / 2\n",
        "\n",
        "# 평균이 80점 이상인 점수만 추출\n",
        "mask = average_scores >= 80\n",
        "selected_scores = average_scores[mask]\n",
        "\n",
        "# 결과 출력\n",
        "print(\"평균이 80점 이상인 점수:\", selected_scores)\n"
      ],
      "metadata": {
        "colab": {
          "base_uri": "https://localhost:8080/"
        },
        "id": "-nOgu6uqsWPY",
        "outputId": "20bed0f7-c2d4-4b6a-ebd0-5dd6ec23c0e9"
      },
      "execution_count": null,
      "outputs": [
        {
          "output_type": "stream",
          "name": "stdout",
          "text": [
            "평균이 80점 이상인 점수: [81.5 91.  89. ]\n"
          ]
        }
      ]
    },
    {
      "cell_type": "markdown",
      "source": [
        "# 2차원 배열에서 특정 조건을 만족하는 행만 추출하기"
      ],
      "metadata": {
        "id": "BRdPrMEFJ9Gj"
      }
    },
    {
      "cell_type": "code",
      "source": [
        "import numpy as np\n",
        "\n",
        "players = [[170, 76.4],\n",
        "           [183, 86.2],\n",
        "           [181, 78.5],\n",
        "           [176, 80.1]]\n",
        "\n",
        "np_players = np.array(players)\n",
        "\n",
        "print('몸무게가 80 이상인 선수 정보')\n",
        "print(np_players[ np_players[:, 1] >= 80.0 ])\n",
        "\n",
        "print('키가 180 이상인 선수 정보')\n",
        "print(np_players[ np_players[:, 0] >= 180.0 ])"
      ],
      "metadata": {
        "id": "5n-61nQ2onKy"
      },
      "execution_count": null,
      "outputs": []
    },
    {
      "cell_type": "markdown",
      "source": [
        "# 배열의 형태를 바꾸는 reshape()함수와 flatten()함수"
      ],
      "metadata": {
        "id": "iLXojWMCKhsA"
      }
    },
    {
      "cell_type": "code",
      "source": [
        "import numpy as np\n",
        "\n",
        "# 1차원 배열 생성\n",
        "arr = np.arange(1, 13)  # 1부터 12까지의 숫자가 들어있는 배열 생성\n",
        "print(\"Original array:\")\n",
        "print(arr)\n",
        "\n",
        "# 1차원 배열을 3x4 행렬로 재구성\n",
        "reshaped_arr = arr.reshape(3, 4)\n",
        "print(\"\\nReshaped array:\")\n",
        "print(reshaped_arr)\n"
      ],
      "metadata": {
        "id": "iuHpqbi7KWqn"
      },
      "execution_count": null,
      "outputs": []
    },
    {
      "cell_type": "code",
      "source": [
        "import numpy as np\n",
        "\n",
        "# 2x3 크기의 다차원 배열 생성\n",
        "arr = np.array([[1, 2, 3],\n",
        "                [4, 5, 6]])\n",
        "\n",
        "# 다차원 배열을 1차원 배열로 평탄화(flatten)\n",
        "flattened_arr = arr.flatten()\n",
        "\n",
        "print(\"Original array:\")\n",
        "print(arr)\n",
        "print(\"\\nFlattened array:\")\n",
        "print(flattened_arr)"
      ],
      "metadata": {
        "id": "_rs9dTqhrYie"
      },
      "execution_count": null,
      "outputs": []
    }
  ]
}