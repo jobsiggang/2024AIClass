{
  "nbformat": 4,
  "nbformat_minor": 0,
  "metadata": {
    "colab": {
      "provenance": [],
      "mount_file_id": "1pKMNnQ1LLiWtz2N-8Iy8tYOzGJuOm2Y8",
      "authorship_tag": "ABX9TyORKqruufYKeVfU0PuNvEtC",
      "include_colab_link": true
    },
    "kernelspec": {
      "name": "python3",
      "display_name": "Python 3"
    },
    "language_info": {
      "name": "python"
    }
  },
  "cells": [
    {
      "cell_type": "markdown",
      "metadata": {
        "id": "view-in-github",
        "colab_type": "text"
      },
      "source": [
        "<a href=\"https://colab.research.google.com/github/jobsiggang/2024AIClass/blob/main/%EC%99%84%EB%A3%8C5_%EC%9D%B8%EA%B3%B5%EC%A7%80%EB%8A%A5%EA%B8%B0%EC%B4%88_%EC%B1%97%EB%B4%87.ipynb\" target=\"_parent\"><img src=\"https://colab.research.google.com/assets/colab-badge.svg\" alt=\"Open In Colab\"/></a>"
      ]
    },
    {
      "cell_type": "markdown",
      "source": [
        "\n",
        "# 언어모델 활용으로 심리상담 챗봇 만들기\n",
        "## 모델 - 허깅페이스 https://huggingface.co/\n",
        "## 데이터 파일 -\n",
        "https://drive.google.com/file/d/1mNG8Vw2_Q2hxOjsr4Jgcn5wo-68ppj-3/view?usp=sharing\n",
        "\n",
        "\n",
        "\n",
        "\n",
        "\n"
      ],
      "metadata": {
        "id": "o_QVYhL-8akG"
      }
    },
    {
      "cell_type": "code",
      "execution_count": null,
      "metadata": {
        "id": "C92gVnKl-jiS"
      },
      "outputs": [],
      "source": [
        "!pip install -U sentence-transformers"
      ]
    },
    {
      "cell_type": "code",
      "source": [
        "# sentence_transformers 모듈에서 SentenceTransformer 클래스 임포트\n",
        "from sentence_transformers import SentenceTransformer\n",
        "\n",
        "# 문장 데이터 준비\n",
        "sentences = [\"안녕하세요?\", \"한국어 문장 임베딩을 위한 버트 모델입니다.\"]\n",
        "\n",
        "# SentenceTransformer 모델 로드\n",
        "model = SentenceTransformer('jhgan/ko-sroberta-multitask')\n",
        "\n",
        "# 문장 임베딩 생성\n",
        "embeddings = model.encode(sentences)\n",
        "print(embeddings)\n"
      ],
      "metadata": {
        "id": "tYesgO1z_Eha"
      },
      "execution_count": null,
      "outputs": []
    },
    {
      "cell_type": "code",
      "source": [
        "from sklearn.metrics.pairwise import cosine_similarity\n",
        "\n",
        "# 첫 번째 문장에 대한 임베딩 생성\n",
        "embeddings1 = model.encode(\"안녕하세요 반갑습니다\")\n",
        "# 두 번째 문장에 대한 임베딩 생성\n",
        "embeddings2 = model.encode(\"싫어 친구야\")\n",
        "\n",
        "# 두 벡터 간의 코사인 유사도 계산\n",
        "result = cosine_similarity([embeddings1], [embeddings2])\n",
        "result\n"
      ],
      "metadata": {
        "id": "YIlyUKAT_5ki"
      },
      "execution_count": null,
      "outputs": []
    },
    {
      "cell_type": "code",
      "source": [
        "import pandas as pd\n",
        "\n",
        "# pandas 라이브러리 임포트\n",
        "\n",
        "# JSON 파일을 데이터프레임으로 읽어들임\n",
        "df = pd.read_json(\"/content/drive/MyDrive/aidata/counsel_data.json\")\n"
      ],
      "metadata": {
        "id": "AlZZuXl5BJT2"
      },
      "execution_count": null,
      "outputs": []
    },
    {
      "cell_type": "code",
      "source": [
        "# 데이터프레임의 \"사용자\" 열에 있는 각 문장을 SentenceTransformer 모델을 사용하여 임베딩하여 새로운 \"embedding\" 열에 추가함\n",
        "df[\"embedding\"] = df[\"사용자\"].map(lambda x: list(model.encode(x)))\n",
        "\n",
        "# 데이터프레임의 처음 몇 개 행을 출력하여 확인\n",
        "print(df.head())\n"
      ],
      "metadata": {
        "id": "WxVbf9HxC9qm"
      },
      "execution_count": null,
      "outputs": []
    },
    {
      "cell_type": "code",
      "source": [
        "text=\"생각대로 안되면 화가 나요\"\n",
        "# 주어진 텍스트를 SentenceTransformer 모델을 사용하여 임베딩함\n",
        "text_embedding = model.encode(text)\n",
        "\n",
        "# 임베딩된 벡터 출력\n",
        "print(text_embedding)\n"
      ],
      "metadata": {
        "id": "RD-KX8yaEDwI"
      },
      "execution_count": null,
      "outputs": []
    },
    {
      "cell_type": "code",
      "source": [
        "# 각 문장의 임베딩과 주어진 텍스트의 임베딩 간의 코사인 유사도 계산 후 \"similarity\" 열에 추가함\n",
        "df['similarity'] = df[\"embedding\"].map(lambda x: cosine_similarity([text_embedding], [x]).squeeze())\n",
        "\n",
        "# 유사도 열 출력\n",
        "print(df[\"similarity\"])\n"
      ],
      "metadata": {
        "id": "HYMNcZ2gFv_a"
      },
      "execution_count": null,
      "outputs": []
    },
    {
      "cell_type": "code",
      "source": [
        "# 유사도가 가장 높은 문장의 인덱스를 찾아 해당 행 선택\n",
        "answer = df.loc[df[\"similarity\"].idxmax()]\n",
        "\n",
        "# 선택된 행에서 \"챗봇\" 열의 값을 출력\n",
        "print(answer[\"챗봇\"])\n"
      ],
      "metadata": {
        "colab": {
          "base_uri": "https://localhost:8080/",
          "height": 35
        },
        "id": "xg3x8POPII3v",
        "outputId": "3510bfe6-bcc5-4df5-a861-4cc85257bcb8"
      },
      "execution_count": null,
      "outputs": [
        {
          "output_type": "execute_result",
          "data": {
            "text/plain": [
              "'화가 폭발할 것 같을 때는 그 자리를 피하는 것도 좋은 방법이라고 생각해요.'"
            ],
            "application/vnd.google.colaboratory.intrinsic+json": {
              "type": "string"
            }
          },
          "metadata": {},
          "execution_count": 20
        }
      ]
    },
    {
      "cell_type": "markdown",
      "source": [
        "# 웹앱으로 서비스"
      ],
      "metadata": {
        "id": "G6QWUsJ9-4J1"
      }
    },
    {
      "cell_type": "code",
      "source": [
        "!pip install gradio"
      ],
      "metadata": {
        "id": "Qs78cxjMInsi",
        "colab": {
          "base_uri": "https://localhost:8080/"
        },
        "outputId": "5e3426f1-de57-4856-e1c5-cbc2672ac1e3"
      },
      "execution_count": null,
      "outputs": [
        {
          "output_type": "stream",
          "name": "stdout",
          "text": [
            "Successfully installed aiofiles-23.2.1 colorama-0.4.6 fastapi-0.110.0 ffmpy-0.3.2 gradio-4.24.0 gradio-client-0.14.0 h11-0.14.0 httpcore-1.0.5 httpx-0.27.0 orjson-3.10.0 pydub-0.25.1 python-multipart-0.0.9 ruff-0.3.4 semantic-version-2.10.0 shellingham-1.5.4 starlette-0.36.3 tomlkit-0.12.0 uvicorn-0.29.0 websockets-11.0.3\n"
          ]
        }
      ]
    },
    {
      "cell_type": "code",
      "source": [
        "import gradio as gr\n",
        "\n",
        "def chatbot(user):\n",
        "    # 사용자 입력에 대한 임베딩 생성\n",
        "    text_embedding = model.encode(user)\n",
        "\n",
        "    # 각 문장과 사용자 입력 간의 코사인 유사도 계산 후 유사도 열에 추가\n",
        "    df['similarity'] = df['embedding'].map(lambda x: cosine_similarity([text_embedding], [x]).squeeze())\n",
        "\n",
        "    # 유사도가 가장 높은 문장 선택\n",
        "    answer = df.loc[df['similarity'].idxmax()]\n",
        "\n",
        "    # 선택된 문장의 챗봇 열 값 반환\n",
        "    return answer[\"챗봇\"]\n",
        "\n",
        "# Gradio 인터페이스 생성 및 런칭\n",
        "demo = gr.Interface(fn=chatbot, inputs='text', outputs='text')\n",
        "demo.launch(debug=True,share=True)"
      ],
      "metadata": {
        "colab": {
          "base_uri": "https://localhost:8080/",
          "height": 650
        },
        "id": "RPz_qZJlszj8",
        "outputId": "7f3df876-6690-4874-cb7a-b4e14d37e735"
      },
      "execution_count": null,
      "outputs": [
        {
          "output_type": "stream",
          "name": "stdout",
          "text": [
            "Colab notebook detected. This cell will run indefinitely so that you can see errors and logs. To turn off, set debug=False in launch().\n",
            "Running on public URL: https://5b65d68d4222385fd1.gradio.live\n",
            "\n",
            "This share link expires in 72 hours. For free permanent hosting and GPU upgrades, run `gradio deploy` from Terminal to deploy to Spaces (https://huggingface.co/spaces)\n"
          ]
        },
        {
          "output_type": "display_data",
          "data": {
            "text/plain": [
              "<IPython.core.display.HTML object>"
            ],
            "text/html": [
              "<div><iframe src=\"https://5b65d68d4222385fd1.gradio.live\" width=\"100%\" height=\"500\" allow=\"autoplay; camera; microphone; clipboard-read; clipboard-write;\" frameborder=\"0\" allowfullscreen></iframe></div>"
            ]
          },
          "metadata": {}
        },
        {
          "output_type": "stream",
          "name": "stdout",
          "text": [
            "Keyboard interruption in main thread... closing server.\n",
            "Killing tunnel 127.0.0.1:7860 <> https://5b65d68d4222385fd1.gradio.live\n"
          ]
        },
        {
          "output_type": "execute_result",
          "data": {
            "text/plain": []
          },
          "metadata": {},
          "execution_count": 7
        }
      ]
    }
  ]
}