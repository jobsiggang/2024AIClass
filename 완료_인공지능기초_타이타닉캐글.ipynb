{
  "nbformat": 4,
  "nbformat_minor": 0,
  "metadata": {
    "colab": {
      "provenance": [],
      "mount_file_id": "1ypRu0bBzHb1PmMlYN957VTo_eXGtXN_O",
      "authorship_tag": "ABX9TyNlZwiIu5BCrVRqZfa9DGUc",
      "include_colab_link": true
    },
    "kernelspec": {
      "name": "python3",
      "display_name": "Python 3"
    },
    "language_info": {
      "name": "python"
    }
  },
  "cells": [
    {
      "cell_type": "markdown",
      "metadata": {
        "id": "view-in-github",
        "colab_type": "text"
      },
      "source": [
        "<a href=\"https://colab.research.google.com/github/jobsiggang/2024AIClass/blob/main/%EC%99%84%EB%A3%8C_%EC%9D%B8%EA%B3%B5%EC%A7%80%EB%8A%A5%EA%B8%B0%EC%B4%88_%ED%83%80%EC%9D%B4%ED%83%80%EB%8B%89%EC%BA%90%EA%B8%80.ipynb\" target=\"_parent\"><img src=\"https://colab.research.google.com/assets/colab-badge.svg\" alt=\"Open In Colab\"/></a>"
      ]
    },
    {
      "cell_type": "markdown",
      "source": [
        "# 캐글 데이터 셋 준비:\n",
        " htps://www.kaggle.com/competitions/titanic 에서 다운로드\n",
        "#  "
      ],
      "metadata": {
        "id": "p1gT_WdUyNGd"
      }
    },
    {
      "cell_type": "code",
      "source": [
        "\n",
        "from google.colab import drive\n",
        "drive.mount('/content/drive')\n"
      ],
      "metadata": {
        "id": "4E5-zLUWw0Bz"
      },
      "execution_count": null,
      "outputs": []
    },
    {
      "cell_type": "code",
      "execution_count": null,
      "metadata": {
        "id": "hRAZuHS05HQH"
      },
      "outputs": [],
      "source": [
        "cd /content/drive/MyDrive/data1/"
      ]
    },
    {
      "cell_type": "code",
      "source": [
        "!pwd"
      ],
      "metadata": {
        "id": "x8CZT-x7zODq"
      },
      "execution_count": null,
      "outputs": []
    },
    {
      "cell_type": "code",
      "source": [
        "ls -al"
      ],
      "metadata": {
        "id": "yw11IaVExthu"
      },
      "execution_count": null,
      "outputs": []
    },
    {
      "cell_type": "code",
      "source": [
        "! unzip /content/drive/MyDrive/data1/titanic.zip"
      ],
      "metadata": {
        "id": "_SoQGlK268ew"
      },
      "execution_count": null,
      "outputs": []
    },
    {
      "cell_type": "code",
      "source": [
        "# !mv  test.csv /content/drive/MyDrive/data1/\n",
        "# !mv  train.csv /content/drive/MyDrive/data1/\n",
        "# !mv gender_submission.csv /content/drive/MyDrive/data1/"
      ],
      "metadata": {
        "id": "q4oxNbo27AeS"
      },
      "execution_count": null,
      "outputs": []
    },
    {
      "cell_type": "code",
      "source": [
        "ls /content/drive/MyDrive/data1/"
      ],
      "metadata": {
        "id": "PfR2bBMf7_Rs"
      },
      "execution_count": null,
      "outputs": []
    },
    {
      "cell_type": "code",
      "source": [
        "import pandas as pd\n",
        "data_train=pd.read_csv('/content/drive/MyDrive/data1/train.csv')\n",
        "print(data_train)\n",
        "print(data_train.columns)"
      ],
      "metadata": {
        "id": "1neBwIEq8A_L"
      },
      "execution_count": null,
      "outputs": []
    },
    {
      "cell_type": "code",
      "source": [
        "import matplotlib.pyplot as plt\n",
        "# 생존자 데이터 필터링\n",
        "data_survived = data_train[data_train.Survived == 1]\n",
        "\n",
        "# 히스토그램 그리기\n",
        "plt.hist([data_train['Pclass'], data_survived['Pclass']], edgecolor='black')\n",
        "\n",
        "# 범례 추가\n",
        "plt.legend(['Total', 'Survived'])\n",
        "\n",
        "# x축 틱 설정\n",
        "plt.xticks([1, 2, 3])\n",
        "\n",
        "# 그래프 표시\n",
        "plt.xlabel('Pclass')\n",
        "plt.ylabel('Frequency')\n",
        "plt.title('Pclass Distribution')\n",
        "plt.show()\n"
      ],
      "metadata": {
        "id": "6R81eGXG-Kdn",
        "collapsed": true
      },
      "execution_count": null,
      "outputs": []
    },
    {
      "cell_type": "code",
      "source": [
        "# 생존한 남성 및 여성 데이터 필터링\n",
        "data_survived_m=data_train[(data_train.Survived==1) & (data_train.Sex==\"male\")]\n",
        "data_survived_f=data_train[(data_train.Survived==1) & (data_train.Sex==\"female\")]\n"
      ],
      "metadata": {
        "id": "Pmj5rqmGAO7e"
      },
      "execution_count": null,
      "outputs": []
    },
    {
      "cell_type": "code",
      "source": [
        "plt.hist([data_train['Pclass'],data_survived_m['Pclass'],data_survived_f['Pclass']])\n",
        "# 범례 추가\n",
        "plt.legend(['Total', 'Survived_male', 'Survived_female'])\n",
        "\n",
        "# x축 틱 설정\n",
        "plt.xticks([1, 2, 3])\n",
        "\n",
        "# 그래프 표시\n",
        "plt.xlabel('Pclass')\n",
        "plt.ylabel('Frequency')\n",
        "plt.title('Pclass Distribution by Survival and Gender')\n",
        "plt.show()"
      ],
      "metadata": {
        "id": "wVCN0sNPadce"
      },
      "execution_count": null,
      "outputs": []
    },
    {
      "cell_type": "code",
      "source": [
        "data_test=pd.read_csv(\"/content/drive/MyDrive/data1/test.csv\")\n",
        "data_test"
      ],
      "metadata": {
        "id": "SQiy6o7jar5t"
      },
      "execution_count": null,
      "outputs": []
    },
    {
      "cell_type": "code",
      "source": [
        "ls /content/drive/MyDrive/data1"
      ],
      "metadata": {
        "id": "XRAFKfYDcxA1"
      },
      "execution_count": null,
      "outputs": []
    },
    {
      "cell_type": "code",
      "source": [
        "cat /content/drive/MyDrive/data1/gender_submission.csv\n"
      ],
      "metadata": {
        "id": "5H2YpN52dH9F"
      },
      "execution_count": null,
      "outputs": []
    },
    {
      "cell_type": "code",
      "source": [
        "len(data_test)"
      ],
      "metadata": {
        "id": "Ovkxih-gdRjp"
      },
      "execution_count": null,
      "outputs": []
    },
    {
      "cell_type": "code",
      "source": [
        "import pandas as pd  # pandas 라이브러리 임포트\n",
        "import numpy as np  # numpy 라이브러리 임포트\n",
        "\n",
        "# CSV 파일에서 데이터 읽기\n",
        "data_test = pd.read_csv(\"/content/drive/MyDrive/data1/test.csv\")\n",
        "\n",
        "# `data_test`의 길이(행 개수)와 2개의 열을 가지는 0으로 초기화된 배열 생성\n",
        "answer = np.zeros([len(data_test), 2])\n",
        "\n",
        "# 생성된 배열 출력\n",
        "answer\n"
      ],
      "metadata": {
        "collapsed": true,
        "id": "u5VM8ynpdp1n"
      },
      "execution_count": null,
      "outputs": []
    },
    {
      "cell_type": "code",
      "source": [
        "# 배열의 첫 번째 열에 `data_test` 데이터프레임의 'PassengerId' 열 값을 복사\n",
        "answer[:, 0] = data_test['PassengerId']\n",
        "answer"
      ],
      "metadata": {
        "collapsed": true,
        "id": "rC9Int9PeJ52"
      },
      "execution_count": null,
      "outputs": []
    },
    {
      "cell_type": "code",
      "source": [
        "# 'Pclass'가 1이고 'Sex'가 'female'인 행의 'Survived' 열 값을 1로 설정\n",
        "answer[(data_test['Pclass'] == 1) & (data_test[\"Sex\"] == 'female'), 1] = 1\n",
        "answer"
      ],
      "metadata": {
        "collapsed": true,
        "id": "mfpDhHCoe-Ow"
      },
      "execution_count": null,
      "outputs": []
    },
    {
      "cell_type": "code",
      "source": [
        "# `answer` 배열을 데이터프레임으로 변환\n",
        "data_answer = pd.DataFrame(answer)\n",
        "\n",
        "# 데이터프레임의 열 이름 설정\n",
        "data_answer.columns = ['PassengerId', 'Survived']\n",
        "\n",
        "# 데이터프레임의 모든 값을 정수형(int32)으로 변환\n",
        "data_answer = data_answer.astype('int32')\n",
        "\n",
        "data_answer"
      ],
      "metadata": {
        "id": "JSsuIOb8f93c"
      },
      "execution_count": null,
      "outputs": []
    },
    {
      "cell_type": "code",
      "source": [
        "# 데이터프레임을 CSV 파일로 저장,인덱스를 파일에 저장안함\n",
        "data_answer.to_csv(\"jin_submission.csv\", index=False)"
      ],
      "metadata": {
        "id": "qaOTQiJsgnx4"
      },
      "execution_count": null,
      "outputs": []
    },
    {
      "cell_type": "code",
      "source": [
        "cat jin_submission.csv"
      ],
      "metadata": {
        "id": "h1dkIQC7AeZz"
      },
      "execution_count": null,
      "outputs": []
    },
    {
      "cell_type": "code",
      "source": [
        "data_train['Embarked'].value_counts()"
      ],
      "metadata": {
        "id": "5ntwLA1gA4ZE"
      },
      "execution_count": null,
      "outputs": []
    },
    {
      "cell_type": "code",
      "source": [
        "data_train.loc[data_train['Survived']==1,['Embarked']].value_counts()"
      ],
      "metadata": {
        "id": "NNL2-V0LEeFv"
      },
      "execution_count": null,
      "outputs": []
    },
    {
      "cell_type": "code",
      "source": [],
      "metadata": {
        "id": "2BOwdp8VFLLc"
      },
      "execution_count": null,
      "outputs": []
    }
  ]
}