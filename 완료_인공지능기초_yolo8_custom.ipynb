{
  "nbformat": 4,
  "nbformat_minor": 0,
  "metadata": {
    "colab": {
      "provenance": [],
      "gpuType": "T4",
      "mount_file_id": "1G0z4VLFusKVX9htri9waaXdLiJRC9jbo",
      "authorship_tag": "ABX9TyOUKGffQkd77q8aYVKrYfUl",
      "include_colab_link": true
    },
    "kernelspec": {
      "name": "python3",
      "display_name": "Python 3"
    },
    "language_info": {
      "name": "python"
    },
    "accelerator": "GPU"
  },
  "cells": [
    {
      "cell_type": "markdown",
      "metadata": {
        "id": "view-in-github",
        "colab_type": "text"
      },
      "source": [
        "<a href=\"https://colab.research.google.com/github/jobsiggang/2024AIClass/blob/main/%EC%99%84%EB%A3%8C_%EC%9D%B8%EA%B3%B5%EC%A7%80%EB%8A%A5%EA%B8%B0%EC%B4%88_yolo8_custom.ipynb\" target=\"_parent\"><img src=\"https://colab.research.google.com/assets/colab-badge.svg\" alt=\"Open In Colab\"/></a>"
      ]
    },
    {
      "cell_type": "code",
      "source": [
        "#가상 컴퓨터에 내 드라이브 마운트\n",
        "from google.colab import drive\n",
        "drive.mount('/content/drive')"
      ],
      "metadata": {
        "id": "c99qo5qvkagC"
      },
      "execution_count": null,
      "outputs": []
    },
    {
      "cell_type": "code",
      "execution_count": null,
      "metadata": {
        "id": "KZU0G8h6BMxE"
      },
      "outputs": [],
      "source": [
        "#내위치 확인\n",
        "!pwd"
      ]
    },
    {
      "cell_type": "markdown",
      "source": [
        "# 내 드라이브에 데이터셋을 저장할 디렉토리 생성"
      ],
      "metadata": {
        "id": "Jb0LuK_jkFjv"
      }
    },
    {
      "cell_type": "code",
      "source": [
        "cd /content/drive/MyDrive"
      ],
      "metadata": {
        "id": "DIV4VXx4Biqm"
      },
      "execution_count": null,
      "outputs": []
    },
    {
      "cell_type": "code",
      "source": [
        "pwd"
      ],
      "metadata": {
        "id": "DkxhG25QB0PS"
      },
      "execution_count": null,
      "outputs": []
    },
    {
      "cell_type": "code",
      "source": [
        "#데이터 셋을 바꿀때만 새로운 디렉토리명으로 바꿔서 실행\n",
        "#디렉토리가 바뀌면 아래 경로 부분에서 디렉토리명 모두 수정해야함\n",
        "\n",
        "mkdir mycustom"
      ],
      "metadata": {
        "id": "-D9NsO5MB49j"
      },
      "execution_count": null,
      "outputs": []
    },
    {
      "cell_type": "code",
      "source": [
        "ls"
      ],
      "metadata": {
        "id": "hIZ7kJbgCCGg"
      },
      "execution_count": null,
      "outputs": []
    },
    {
      "cell_type": "code",
      "source": [
        "#매번 실행해서 위치 디렉토리 이동\n",
        "cd /content/drive/MyDrive/mycustom"
      ],
      "metadata": {
        "id": "K4SgD0odEVMx"
      },
      "execution_count": null,
      "outputs": []
    },
    {
      "cell_type": "code",
      "source": [
        "#데이터셋을 바꿀때만 다운로드받음., roboflow 다운로드시 terminal 선택에서 복사해서 본인걸로 수정\n",
        "!curl -L \"https://public.roboflow.com/ds/MAjl1VIka9?key=\"본인 키\" > roboflow.zip; unzip roboflow.zip; rm roboflow.zip\n"
      ],
      "metadata": {
        "id": "zNX3ILJeCC9d"
      },
      "execution_count": null,
      "outputs": []
    },
    {
      "cell_type": "markdown",
      "source": [
        "\n",
        "\n",
        "# yaml파일에서 데이터셋 경로 수정\n"
      ],
      "metadata": {
        "id": "twDP5z8FjmT6"
      }
    },
    {
      "cell_type": "code",
      "source": [
        "!cat data.yaml"
      ],
      "metadata": {
        "id": "uBXhlt-pD3v8"
      },
      "execution_count": null,
      "outputs": []
    },
    {
      "cell_type": "code",
      "source": [
        "import yaml\n",
        "data={'train': '/content/drive/MyDrive/mycustom/train/images',\n",
        "'val': '/content/drive/MyDrive/mycustom/valid/images',\n",
        "'test': '/content/drive/MyDrive/mycustom/test/images',\n",
        "'nc': 8,\n",
        "'names': ['fish', 'jellyfish', 'penguin', 'puffin', 'shark', 'starfish', 'stingray','diver']\n",
        "\n",
        "}\n",
        "data"
      ],
      "metadata": {
        "id": "-c5pGvAXFjL4"
      },
      "execution_count": null,
      "outputs": []
    },
    {
      "cell_type": "code",
      "source": [
        "with open('/content/drive/MyDrive/mycustom/data.yaml','w') as f:\n",
        "  yaml.dump(data,f)\n"
      ],
      "metadata": {
        "id": "FB-KlxcsFx2E"
      },
      "execution_count": null,
      "outputs": []
    },
    {
      "cell_type": "code",
      "source": [
        "!cat data.yaml"
      ],
      "metadata": {
        "id": "Z_VjA2KXGNMO"
      },
      "execution_count": null,
      "outputs": []
    },
    {
      "cell_type": "code",
      "source": [
        "!pip install ultralytics"
      ],
      "metadata": {
        "id": "gGEEXwhOHm9E",
        "collapsed": true
      },
      "execution_count": null,
      "outputs": []
    },
    {
      "cell_type": "code",
      "source": [
        "from ultralytics import YOLO\n",
        "model= YOLO('/content/drive/MyDrive/mycustom/yolov8n.pt')\n"
      ],
      "metadata": {
        "id": "wJ5Tj9H4H-7s"
      },
      "execution_count": null,
      "outputs": []
    },
    {
      "cell_type": "code",
      "source": [
        "print(model.names)"
      ],
      "metadata": {
        "id": "bJ8lDF3fIlS5"
      },
      "execution_count": null,
      "outputs": []
    },
    {
      "cell_type": "markdown",
      "source": [
        "# 모델 학습"
      ],
      "metadata": {
        "id": "A6H26HANh_pV"
      }
    },
    {
      "cell_type": "code",
      "source": [
        "#학습 후 rurns/detect/train/weights/best.pt 모델을 찾아 다운로드\n",
        "model.train(data=\"/content/drive/MyDrive/mycustom/data.yaml\",epochs=10,batch=32,imgsz=416)"
      ],
      "metadata": {
        "id": "alYaK1P4JCKF"
      },
      "execution_count": null,
      "outputs": []
    },
    {
      "cell_type": "markdown",
      "source": [
        "# 모델 예측"
      ],
      "metadata": {
        "id": "8DLdzoeKjP4a"
      }
    },
    {
      "cell_type": "code",
      "source": [
        "#테스트 이미지 폴더 전체 예측\n",
        "result=model.predict(source=\"/content/drive/MyDrive/mycustom/test/images\",save=True)"
      ],
      "metadata": {
        "id": "KzPCWA87JxDL"
      },
      "execution_count": null,
      "outputs": []
    },
    {
      "cell_type": "code",
      "source": [
        "#업로드된 이미지 예측\n",
        "result=model.predict(source=\"/content/scuba1.jpg\",save=True)"
      ],
      "metadata": {
        "id": "_J1VXMJtAg5u"
      },
      "execution_count": null,
      "outputs": []
    }
  ]
}