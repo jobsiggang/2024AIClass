{
  "nbformat": 4,
  "nbformat_minor": 0,
  "metadata": {
    "colab": {
      "provenance": [],
      "authorship_tag": "ABX9TyNX+mejldGV0Bf4RrtmuPJ/",
      "include_colab_link": true
    },
    "kernelspec": {
      "name": "python3",
      "display_name": "Python 3"
    },
    "language_info": {
      "name": "python"
    }
  },
  "cells": [
    {
      "cell_type": "markdown",
      "metadata": {
        "id": "view-in-github",
        "colab_type": "text"
      },
      "source": [
        "<a href=\"https://colab.research.google.com/github/jobsiggang/2024AIClass/blob/main/%EC%99%84%EB%A3%8C4_%EC%9D%B8%EA%B3%B5%EC%A7%80%EB%8A%A5%EA%B8%B0%EC%B4%88_%EC%9D%8C%EC%84%B1%EC%9D%B8%EC%8B%9D%EA%B3%BC_%EC%96%B8%EC%96%B4%EC%9D%B4%ED%95%B4.ipynb\" target=\"_parent\"><img src=\"https://colab.research.google.com/assets/colab-badge.svg\" alt=\"Open In Colab\"/></a>"
      ]
    },
    {
      "cell_type": "markdown",
      "source": [
        "#문자를 음성파일로 변환"
      ],
      "metadata": {
        "id": "1LhsrvXW5wsH"
      }
    },
    {
      "cell_type": "code",
      "source": [
        "!pip install gtts"
      ],
      "metadata": {
        "id": "cEGTgwBXmWWn"
      },
      "execution_count": null,
      "outputs": []
    },
    {
      "cell_type": "code",
      "execution_count": null,
      "metadata": {
        "id": "3s_6ulAcmMP5"
      },
      "outputs": [],
      "source": [
        "from gtts import gTTS\n",
        "# 텍스트 입력 받기\n",
        "text = input(\"변환하고 싶은 문장 입력\")\n",
        "# 저장할 음성 파일 이름\n",
        "output_filename = 'output_audio.wav'\n",
        "# 텍스트를 음성 파일로 변환하고 저장\n",
        "tts = gTTS(text=text, lang='ko')  # 한국어로 음성으로 변환\n",
        "tts.save(output_filename)  # 음성 파일을 지정된 파일 이름으로 저장\n",
        "\n",
        "print(f'텍스트가 음성 파일 {output_filename}로 저장되었습니다.')"
      ]
    },
    {
      "cell_type": "markdown",
      "source": [
        "\n",
        "# 텍스트 전처리\n",
        "\n"
      ],
      "metadata": {
        "id": "87BAAkg26e-H"
      }
    },
    {
      "cell_type": "code",
      "source": [
        "import tensorflow as tf\n",
        "from tensorflow import keras\n",
        "from tensorflow.keras.preprocessing.text import Tokenizer\n",
        "from tensorflow.keras.preprocessing.sequence import pad_sequences\n",
        "\n",
        "# TensorFlow 및 Keras 모듈 임포트\n",
        "# 토큰화를 위한 Tokenizer 및 시퀀스 패딩을 위한 pad_sequences 임포트\n",
        "\n",
        "# 텍스트 데이터 준비\n",
        "sentences = [\n",
        "    'I love my dog',\n",
        "    'I love my cat',\n",
        "    'Do you think my dog is amazing'\n",
        "]\n",
        "\n",
        "# Tokenizer 객체 생성 및 텍스트에 대한 단어 인덱싱\n",
        "tokenizer = Tokenizer(num_words=100, oov_token=\"<oov>\")\n",
        "tokenizer.fit_on_texts(sentences)\n",
        "word_index = tokenizer.word_index\n",
        "print(word_index)\n",
        "\n",
        "# 텍스트를 시퀀스로 변환\n",
        "sequences = tokenizer.texts_to_sequences(sentences)\n",
        "\n",
        "# 시퀀스를 패딩하여 일관된 길이로 조정\n",
        "padded = pad_sequences(sequences)\n",
        "print(padded)\n",
        "print(sequences)\n"
      ],
      "metadata": {
        "id": "ko9nvrpsoVNr"
      },
      "execution_count": null,
      "outputs": []
    },
    {
      "cell_type": "code",
      "source": [
        "# 추가 텍스트 데이터\n",
        "test_data = [\n",
        "    \"i really love my lion\",\n",
        "    \"my dog loves my jambo\"\n",
        "]\n",
        "\n",
        "# 테스트 데이터에 대한 시퀀스 생성\n",
        "test_sequences = tokenizer.texts_to_sequences(test_data)\n",
        "print(test_sequences)\n"
      ],
      "metadata": {
        "id": "hVCIKgvJnXW9"
      },
      "execution_count": null,
      "outputs": []
    },
    {
      "cell_type": "markdown",
      "source": [
        "# 언어모델 사용 긍정부정 판단 - 허깅페이스\n",
        "\n",
        "1.   항목 추가\n",
        "2.   항목 추가\n",
        "\n"
      ],
      "metadata": {
        "id": "U5Dw6li_74zy"
      }
    },
    {
      "cell_type": "code",
      "source": [
        "from transformers import pipeline\n",
        "classifier = pipeline(\"text-classification\", model=\"matthewburke/korean_sentiment\")"
      ],
      "metadata": {
        "id": "xbIAttWsqopr"
      },
      "execution_count": null,
      "outputs": []
    },
    {
      "cell_type": "code",
      "source": [
        "custom_tweet = \"영화 쪽박.\"\n",
        "preds = classifier(custom_tweet, return_all_scores=True)\n",
        "is_positive = preds[0][1]['score'] > 0.6\n",
        "print(preds)\n",
        "print(is_positive)"
      ],
      "metadata": {
        "id": "38pXaZybughw",
        "colab": {
          "base_uri": "https://localhost:8080/"
        },
        "outputId": "5143c350-915c-45f9-ee8a-30a818a75877"
      },
      "execution_count": null,
      "outputs": [
        {
          "output_type": "stream",
          "name": "stdout",
          "text": [
            "[[{'label': 'LABEL_0', 'score': 0.9512498378753662}, {'label': 'LABEL_1', 'score': 0.04875023290514946}]]\n",
            "False\n"
          ]
        }
      ]
    }
  ]
}